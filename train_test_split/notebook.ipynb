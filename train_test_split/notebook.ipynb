{
 "cells": [
  {
   "cell_type": "markdown",
   "id": "f59e8431-8840-4620-aeb5-f7b8bbf647f9",
   "metadata": {},
   "source": [
    "# Train test_split operation"
   ]
  },
  {
   "cell_type": "code",
   "execution_count": 2,
   "id": "d217edcb-c573-456e-a9d6-54aa778f487b",
   "metadata": {},
   "outputs": [],
   "source": [
    "## import the necessary libraries"
   ]
  },
  {
   "cell_type": "code",
   "execution_count": null,
   "id": "6f6e8813-b117-4f14-b631-4e32d9023e09",
   "metadata": {},
   "outputs": [],
   "source": [
    "import numpy as np\n",
    "from sklearn.model_selection import train_test_split"
   ]
  },
  {
   "cell_type": "code",
   "execution_count": null,
   "id": "808da3dd-027e-4c7f-8210-afb2f81ae632",
   "metadata": {},
   "outputs": [],
   "source": []
  }
 ],
 "metadata": {
  "kernelspec": {
   "display_name": "Python 3 (ipykernel)",
   "language": "python",
   "name": "python3"
  },
  "language_info": {
   "codemirror_mode": {
    "name": "ipython",
    "version": 3
   },
   "file_extension": ".py",
   "mimetype": "text/x-python",
   "name": "python",
   "nbconvert_exporter": "python",
   "pygments_lexer": "ipython3",
   "version": "3.12.1"
  }
 },
 "nbformat": 4,
 "nbformat_minor": 5
}
