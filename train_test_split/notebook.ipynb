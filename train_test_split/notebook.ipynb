{
 "cells": [
  {
   "cell_type": "markdown",
   "id": "f59e8431-8840-4620-aeb5-f7b8bbf647f9",
   "metadata": {},
   "source": [
    "# Train test_split operation"
   ]
  },
  {
   "cell_type": "code",
   "execution_count": 2,
   "id": "d217edcb-c573-456e-a9d6-54aa778f487b",
   "metadata": {},
   "outputs": [],
   "source": [
    "## import the necessary libraries"
   ]
  },
  {
   "cell_type": "code",
   "execution_count": null,
   "id": "6f6e8813-b117-4f14-b631-4e32d9023e09",
   "metadata": {},
   "outputs": [],
   "source": [
    "import numpy as np\n",
    "from sklearn.model_selection import train_test_split"
   ]
  },
  {
   "cell_type": "code",
   "execution_count": 4,
   "id": "808da3dd-027e-4c7f-8210-afb2f81ae632",
   "metadata": {},
   "outputs": [],
   "source": [
    "## create the array values for both  x and y\n",
    "x=np.array([10,20,30,40,50,60,70,80,90,100,110,120,130,140,150,160,170,180,190,200]);\n",
    "y=np.array([0,0,0,0,0,1,1,1,1,1,0,0,0,0,1,1,1,1,1,0])\n"
   ]
  },
  {
   "cell_type": "code",
   "execution_count": 5,
   "id": "865d8140-e064-4145-923a-f67d017f3c3c",
   "metadata": {},
   "outputs": [
    {
     "data": {
      "text/plain": [
       "array([ 10,  20,  30,  40,  50,  60,  70,  80,  90, 100, 110, 120, 130,\n",
       "       140, 150, 160, 170, 180, 190, 200])"
      ]
     },
     "execution_count": 5,
     "metadata": {},
     "output_type": "execute_result"
    }
   ],
   "source": [
    "x"
   ]
  },
  {
   "cell_type": "code",
   "execution_count": 6,
   "id": "eecbc980-ad7d-4f40-b11e-fb5a6a99e798",
   "metadata": {},
   "outputs": [
    {
     "data": {
      "text/plain": [
       "array([0, 0, 0, 0, 0, 1, 1, 1, 1, 1, 0, 0, 0, 0, 1, 1, 1, 1, 1, 0])"
      ]
     },
     "execution_count": 6,
     "metadata": {},
     "output_type": "execute_result"
    }
   ],
   "source": [
    "y"
   ]
  },
  {
   "cell_type": "code",
   "execution_count": null,
   "id": "611bf11b-93be-4d84-9fb1-12c72c26d4f6",
   "metadata": {},
   "outputs": [],
   "source": []
  }
 ],
 "metadata": {
  "kernelspec": {
   "display_name": "Python 3 (ipykernel)",
   "language": "python",
   "name": "python3"
  },
  "language_info": {
   "codemirror_mode": {
    "name": "ipython",
    "version": 3
   },
   "file_extension": ".py",
   "mimetype": "text/x-python",
   "name": "python",
   "nbconvert_exporter": "python",
   "pygments_lexer": "ipython3",
   "version": "3.12.1"
  }
 },
 "nbformat": 4,
 "nbformat_minor": 5
}
